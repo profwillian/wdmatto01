{
 "cells": [
  {
   "cell_type": "code",
   "execution_count": 1,
   "id": "b2634290",
   "metadata": {},
   "outputs": [
    {
     "name": "stdout",
     "output_type": "stream",
     "text": [
      "Collecting requests\n",
      "  Downloading requests-2.26.0-py2.py3-none-any.whl (62 kB)\n",
      "Collecting urllib3<1.27,>=1.21.1\n",
      "  Downloading urllib3-1.26.6-py2.py3-none-any.whl (138 kB)\n",
      "Collecting certifi>=2017.4.17\n",
      "  Downloading certifi-2021.5.30-py2.py3-none-any.whl (145 kB)\n",
      "Collecting idna<4,>=2.5\n",
      "  Downloading idna-3.2-py3-none-any.whl (59 kB)\n",
      "Collecting charset-normalizer~=2.0.0\n",
      "  Downloading charset_normalizer-2.0.1-py3-none-any.whl (35 kB)\n",
      "Installing collected packages: urllib3, idna, charset-normalizer, certifi, requests\n",
      "Successfully installed certifi-2021.5.30 charset-normalizer-2.0.1 idna-3.2 requests-2.26.0 urllib3-1.26.6\n"
     ]
    },
    {
     "name": "stderr",
     "output_type": "stream",
     "text": [
      "  WARNING: The script normalizer.exe is installed in 'C:\\Users\\User\\AppData\\Local\\Packages\\PythonSoftwareFoundation.Python.3.9_qbz5n2kfra8p0\\LocalCache\\local-packages\\Python39\\Scripts' which is not on PATH.\n",
      "  Consider adding this directory to PATH or, if you prefer to suppress this warning, use --no-warn-script-location.\n"
     ]
    }
   ],
   "source": [
    "!pip install requests"
   ]
  },
  {
   "cell_type": "code",
   "execution_count": 2,
   "id": "1e75cab4",
   "metadata": {},
   "outputs": [],
   "source": [
    "import requests"
   ]
  },
  {
   "cell_type": "code",
   "execution_count": 3,
   "id": "45777992",
   "metadata": {},
   "outputs": [
    {
     "name": "stdout",
     "output_type": "stream",
     "text": [
      "200\n"
     ]
    }
   ],
   "source": [
    "url = 'https://api.exchangerate-api.com/v6/latest'\n",
    "\n",
    "req = requests.get(url)\n",
    "\n",
    "print(req.status_code)"
   ]
  },
  {
   "cell_type": "code",
   "execution_count": 5,
   "id": "ec57cd65",
   "metadata": {},
   "outputs": [
    {
     "name": "stdout",
     "output_type": "stream",
     "text": [
      "{'result': 'success', 'provider': 'https://www.exchangerate-api.com', 'documentation': 'https://www.exchangerate-api.com/docs/free', 'WARNING_NEW_ENDPOINT': 'Swap *api.exchangerate-api.com* with *open.er-api.com* for better servers!', 'terms_of_use': 'https://www.exchangerate-api.com/terms', 'time_last_update_unix': 1626220951, 'time_last_update_utc': 'Wed, 14 Jul 2021 00:02:31 +0000', 'time_next_update_unix': 1626308701, 'time_next_update_utc': 'Thu, 15 Jul 2021 00:25:01 +0000', 'time_eol_unix': 0, 'base_code': 'USD', 'rates': {'USD': 1, 'AED': 3.67, 'AFN': 81.77, 'ALL': 103.25, 'AMD': 496.16, 'ANG': 1.79, 'AOA': 648.06, 'ARS': 96.11, 'AUD': 1.34, 'AWG': 1.79, 'AZN': 1.7, 'BAM': 1.65, 'BBD': 2, 'BDT': 84.69, 'BGN': 1.65, 'BHD': 0.376, 'BIF': 1969.44, 'BMD': 1, 'BND': 1.35, 'BOB': 6.88, 'BRL': 5.18, 'BSD': 1, 'BTN': 74.56, 'BWP': 11.02, 'BYN': 2.56, 'BZD': 2, 'CAD': 1.25, 'CDF': 1985.28, 'CHF': 0.917, 'CLP': 743.73, 'CNY': 6.47, 'COP': 3846.65, 'CRC': 620.01, 'CUC': 1, 'CUP': 25.75, 'CVE': 93.21, 'CZK': 21.74, 'DJF': 177.72, 'DKK': 6.31, 'DOP': 57, 'DZD': 134.61, 'EGP': 15.69, 'ERN': 15, 'ETB': 43.86, 'EUR': 0.845, 'FJD': 2.07, 'FKP': 0.722, 'FOK': 6.31, 'GBP': 0.722, 'GEL': 3.13, 'GGP': 0.722, 'GHS': 5.92, 'GIP': 0.722, 'GMD': 51.84, 'GNF': 9809.02, 'GTQ': 7.73, 'GYD': 208.69, 'HKD': 7.76, 'HNL': 23.85, 'HRK': 6.37, 'HTG': 93.64, 'HUF': 302.52, 'IDR': 14520.92, 'ILS': 3.29, 'IMP': 0.722, 'INR': 74.56, 'IQD': 1456.93, 'IRR': 41924.22, 'ISK': 123.57, 'JMD': 151.69, 'JOD': 0.709, 'JPY': 110.4, 'KES': 107.9, 'KGS': 84.67, 'KHR': 4067.92, 'KID': 1.34, 'KMF': 415.86, 'KRW': 1147.26, 'KWD': 0.3, 'KYD': 0.833, 'KZT': 427.27, 'LAK': 9469.7, 'LBP': 1507.5, 'LKR': 199.16, 'LRD': 171.5, 'LSL': 14.63, 'LYD': 4.5, 'MAD': 8.93, 'MDL': 18.04, 'MGA': 3780.51, 'MKD': 51.96, 'MMK': 1644.88, 'MNT': 2841.18, 'MOP': 8, 'MRU': 36.1, 'MUR': 42.66, 'MVR': 15.37, 'MWK': 807.54, 'MXN': 19.98, 'MYR': 4.19, 'MZN': 63.88, 'NAD': 14.63, 'NGN': 425.86, 'NIO': 34.99, 'NOK': 8.73, 'NPR': 119.29, 'NZD': 1.44, 'OMR': 0.384, 'PAB': 1, 'PEN': 3.96, 'PGK': 3.51, 'PHP': 50.08, 'PKR': 159.53, 'PLN': 3.87, 'PYG': 6773.68, 'QAR': 3.64, 'RON': 4.16, 'RSD': 99.21, 'RUB': 74.15, 'RWF': 1005.09, 'SAR': 3.75, 'SBD': 7.92, 'SCR': 14.25, 'SDG': 448.91, 'SEK': 8.62, 'SGD': 1.35, 'SHP': 0.722, 'SLL': 10257.29, 'SOS': 577.61, 'SRD': 20.98, 'SSP': 177.56, 'STN': 20.71, 'SYP': 1263.85, 'SZL': 14.63, 'THB': 32.66, 'TJS': 11.3, 'TMT': 3.5, 'TND': 2.77, 'TOP': 2.24, 'TRY': 8.61, 'TTD': 6.77, 'TVD': 1.34, 'TWD': 28.01, 'TZS': 2315.69, 'UAH': 27.29, 'UGX': 3536.27, 'UYU': 43.93, 'UZS': 10556.6, 'VES': 3321657.52, 'VND': 22973.09, 'VUV': 110.13, 'WST': 2.55, 'XAF': 554.48, 'XCD': 2.7, 'XDR': 0.702, 'XOF': 554.48, 'XPF': 100.87, 'YER': 250.19, 'ZAR': 14.63, 'ZMW': 22.64}}\n"
     ]
    }
   ],
   "source": [
    "dados = req.json()\n",
    "\n",
    "print(dados)"
   ]
  },
  {
   "cell_type": "code",
   "execution_count": 6,
   "id": "66cc0ff0",
   "metadata": {},
   "outputs": [
    {
     "name": "stdout",
     "output_type": "stream",
     "text": [
      "Informe o valor em reais a ser convertido\n",
      "100\n",
      "R$100.0 em dólar vale U$ 19.31\n"
     ]
    }
   ],
   "source": [
    "valor_reais = float(input('Informe o valor em reais a ser convertido\\n'))\n",
    "cotacao = dados['rates']['BRL']\n",
    "print(f'R${valor_reais} em dólar vale U$ {(valor_reais/cotacao):.2f}')"
   ]
  },
  {
   "cell_type": "code",
   "execution_count": null,
   "id": "8c4a8923",
   "metadata": {},
   "outputs": [],
   "source": []
  }
 ],
 "metadata": {
  "kernelspec": {
   "display_name": "Python 3",
   "language": "python",
   "name": "python3"
  },
  "language_info": {
   "codemirror_mode": {
    "name": "ipython",
    "version": 3
   },
   "file_extension": ".py",
   "mimetype": "text/x-python",
   "name": "python",
   "nbconvert_exporter": "python",
   "pygments_lexer": "ipython3",
   "version": "3.9.5"
  }
 },
 "nbformat": 4,
 "nbformat_minor": 5
}
